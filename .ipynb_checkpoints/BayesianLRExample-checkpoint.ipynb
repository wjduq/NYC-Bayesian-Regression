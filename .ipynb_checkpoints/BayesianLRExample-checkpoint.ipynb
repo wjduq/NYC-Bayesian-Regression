{
 "cells": [
  {
   "cell_type": "markdown",
   "id": "biological-bundle",
   "metadata": {},
   "source": [
    "# OLS vs Bayesian Linear Regression \n",
    "By: William Duquette and Soham Changani"
   ]
  },
  {
   "cell_type": "code",
   "execution_count": 2,
   "id": "forced-tutorial",
   "metadata": {},
   "outputs": [],
   "source": [
    "#Import necessary libraries\n",
    "import pandas as pd\n",
    "import numpy as np\n",
    "from pathlib import Path\n",
    "import seaborn as sn\n",
    "import matplotlib.pyplot as pyplot\n",
    "import pymc3 as pm\n",
    "from statsmodels.graphics.gofplots import qqplot \n",
    "\n",
    "#from pymc3 import traceplot\n",
    "\n",
    "# Scipy for statistics\n",
    "import scipy\n",
    "from scipy.stats import norm\n",
    "import theano\n",
    "\n",
    "from arviz.utils import Numba\n",
    "Numba.disable_numba()\n",
    "Numba.numba_flag\n",
    "\n",
    "\n",
    "import arviz as az #pymc3 plot functions use Arviz. Either command works. Ex: az.plot_posterior = pm.plot_posterior"
   ]
  },
  {
   "cell_type": "markdown",
   "id": "sustained-dealing",
   "metadata": {},
   "source": [
    "The data set we are working with, Zagat, has data about $168$ Italian restaurants in New York and ratings customers provided for each restaurant's food, ambiance, etc., along with the average price. The question we are interested in answering: Is the average price of food at restaurants dependent on the average food rating? This will be done using Ordinary Least Squares (OLS) and Bayesian Linear Regression."
   ]
  },
  {
   "cell_type": "code",
   "execution_count": 3,
   "id": "raised-indonesia",
   "metadata": {},
   "outputs": [
    {
     "data": {
      "text/html": [
       "<div>\n",
       "<style scoped>\n",
       "    .dataframe tbody tr th:only-of-type {\n",
       "        vertical-align: middle;\n",
       "    }\n",
       "\n",
       "    .dataframe tbody tr th {\n",
       "        vertical-align: top;\n",
       "    }\n",
       "\n",
       "    .dataframe thead th {\n",
       "        text-align: right;\n",
       "    }\n",
       "</style>\n",
       "<table border=\"1\" class=\"dataframe\">\n",
       "  <thead>\n",
       "    <tr style=\"text-align: right;\">\n",
       "      <th></th>\n",
       "      <th>Price</th>\n",
       "      <th>Food</th>\n",
       "      <th>Decor</th>\n",
       "      <th>Service</th>\n",
       "      <th>East</th>\n",
       "    </tr>\n",
       "    <tr>\n",
       "      <th>Restaurant</th>\n",
       "      <th></th>\n",
       "      <th></th>\n",
       "      <th></th>\n",
       "      <th></th>\n",
       "      <th></th>\n",
       "    </tr>\n",
       "  </thead>\n",
       "  <tbody>\n",
       "    <tr>\n",
       "      <th>Daniella Ristorante</th>\n",
       "      <td>43</td>\n",
       "      <td>22</td>\n",
       "      <td>18</td>\n",
       "      <td>20</td>\n",
       "      <td>0</td>\n",
       "    </tr>\n",
       "    <tr>\n",
       "      <th>Tello's Ristorante</th>\n",
       "      <td>32</td>\n",
       "      <td>20</td>\n",
       "      <td>19</td>\n",
       "      <td>19</td>\n",
       "      <td>0</td>\n",
       "    </tr>\n",
       "    <tr>\n",
       "      <th>Biricchino</th>\n",
       "      <td>34</td>\n",
       "      <td>21</td>\n",
       "      <td>13</td>\n",
       "      <td>18</td>\n",
       "      <td>0</td>\n",
       "    </tr>\n",
       "    <tr>\n",
       "      <th>Bottino</th>\n",
       "      <td>41</td>\n",
       "      <td>20</td>\n",
       "      <td>20</td>\n",
       "      <td>17</td>\n",
       "      <td>0</td>\n",
       "    </tr>\n",
       "    <tr>\n",
       "      <th>Da Umberto</th>\n",
       "      <td>54</td>\n",
       "      <td>24</td>\n",
       "      <td>19</td>\n",
       "      <td>21</td>\n",
       "      <td>0</td>\n",
       "    </tr>\n",
       "    <tr>\n",
       "      <th>...</th>\n",
       "      <td>...</td>\n",
       "      <td>...</td>\n",
       "      <td>...</td>\n",
       "      <td>...</td>\n",
       "      <td>...</td>\n",
       "    </tr>\n",
       "    <tr>\n",
       "      <th>Baci</th>\n",
       "      <td>31</td>\n",
       "      <td>17</td>\n",
       "      <td>15</td>\n",
       "      <td>16</td>\n",
       "      <td>0</td>\n",
       "    </tr>\n",
       "    <tr>\n",
       "      <th>Puccini</th>\n",
       "      <td>26</td>\n",
       "      <td>20</td>\n",
       "      <td>16</td>\n",
       "      <td>17</td>\n",
       "      <td>0</td>\n",
       "    </tr>\n",
       "    <tr>\n",
       "      <th>Bella Luna</th>\n",
       "      <td>31</td>\n",
       "      <td>18</td>\n",
       "      <td>16</td>\n",
       "      <td>17</td>\n",
       "      <td>0</td>\n",
       "    </tr>\n",
       "    <tr>\n",
       "      <th>Metisse</th>\n",
       "      <td>38</td>\n",
       "      <td>22</td>\n",
       "      <td>17</td>\n",
       "      <td>21</td>\n",
       "      <td>0</td>\n",
       "    </tr>\n",
       "    <tr>\n",
       "      <th>Gennaro</th>\n",
       "      <td>34</td>\n",
       "      <td>24</td>\n",
       "      <td>10</td>\n",
       "      <td>16</td>\n",
       "      <td>0</td>\n",
       "    </tr>\n",
       "  </tbody>\n",
       "</table>\n",
       "<p>168 rows × 5 columns</p>\n",
       "</div>"
      ],
      "text/plain": [
       "                     Price  Food  Decor  Service  East\n",
       "Restaurant                                            \n",
       "Daniella Ristorante     43    22     18       20     0\n",
       "Tello's Ristorante      32    20     19       19     0\n",
       "Biricchino              34    21     13       18     0\n",
       "Bottino                 41    20     20       17     0\n",
       "Da Umberto              54    24     19       21     0\n",
       "...                    ...   ...    ...      ...   ...\n",
       "Baci                    31    17     15       16     0\n",
       "Puccini                 26    20     16       17     0\n",
       "Bella Luna              31    18     16       17     0\n",
       "Metisse                 38    22     17       21     0\n",
       "Gennaro                 34    24     10       16     0\n",
       "\n",
       "[168 rows x 5 columns]"
      ]
     },
     "execution_count": 3,
     "metadata": {},
     "output_type": "execute_result"
    }
   ],
   "source": [
    "#Import Data\n",
    "NYCData = \"nyc.csv\" \n",
    "NYCDf = pd.read_csv(NYCData)\n",
    "\n",
    "NYCDf.drop([\"Unnamed: 0\", \"X\", \"Case\"], axis = 1, inplace = True)\n",
    "NYCDf.set_index(\"Restaurant\", inplace = True)\n",
    "#NYCDf[\"Intercept\"] = 1\n",
    "\n",
    "NYCDf"
   ]
  },
  {
   "cell_type": "markdown",
   "id": "allied-destruction",
   "metadata": {},
   "source": [
    "We first need to make a scatterplot to determine if linear regression is appropriate. Remember the question we are trying to answer is whether average price of food is dependent on the average food rating. So for this question, the restaurant's average price will be our response variable, and the food rating will be our explanatory variable. See code below to make needed scatterplot."
   ]
  },
  {
   "cell_type": "code",
   "execution_count": 4,
   "id": "european-challenge",
   "metadata": {},
   "outputs": [
    {
     "data": {
      "image/png": "[encoded data removed]",
      "text/plain": [
       "<Figure size 432x288 with 1 Axes>"
      ]
     },
     "metadata": {},
     "output_type": "display_data"
    }
   ],
   "source": [
    "pyplot.style.use('fivethirtyeight')\n",
    "pyplot.plot(NYCDf[\"Food\"],NYCDf[\"Price\"], \"bo\")\n",
    "pyplot.xlabel(\"Food Rating\")\n",
    "pyplot.ylabel(\"Average Price\")\n",
    "pyplot.title(\"Food Rating vs Average Price\")\n",
    "pyplot.show()"
   ]
  },
  {
   "cell_type": "markdown",
   "id": "included-typing",
   "metadata": {},
   "source": [
    "## Ordinary Least Squares Regression"
   ]
  },
  {
   "cell_type": "markdown",
   "id": "remarkable-links",
   "metadata": {},
   "source": [
    "Now that we can see the variables have a linear relationship we can continue with our analysis. First we must fit a OLS linear regression model. First, we must gather the data for our two variables and build our linear model. Next , we will build our linear model by using Numpy's lstsq tool. Below you can see the output the OLS linear model."
   ]
  },
  {
   "cell_type": "code",
   "execution_count": 5,
   "id": "polished-adaptation",
   "metadata": {},
   "outputs": [
    {
     "name": "stdout",
     "output_type": "stream",
     "text": [
      "The values gathered from our data are -17.83214855650661 for our intercept and 2.9389598143043676 for our slope.\n"
     ]
    }
   ],
   "source": [
    "x = NYCDf[\"Food\"]\n",
    "y = NYCDf[\"Price\"]\n",
    "\n",
    "A = np.vstack([x, np.ones(len(x))]).T\n",
    "model, SSE = np.linalg.lstsq(A, y, rcond=None)[:2]\n",
    "\n",
    "print(f\"\"\"The values gathered from our data are {model[1]} for our intercept and {model[0]} for our slope.\"\"\")"
   ]
  },
  {
   "cell_type": "markdown",
   "id": "separate-ready",
   "metadata": {},
   "source": [
    "Below is the residuals vs fitted, and QQ plot for our OLS linear model. This done to check the conditions of linear regression. As you can see the conditions of this model are met."
   ]
  },
  {
   "cell_type": "code",
   "execution_count": 15,
   "id": "advised-harmony",
   "metadata": {},
   "outputs": [
    {
     "data": {
      "image/png": "[encoded data removed]",
      "text/plain": [
       "<Figure size 432x288 with 1 Axes>"
      ]
     },
     "metadata": {},
     "output_type": "display_data"
    }
   ],
   "source": [
    "pyplot.plot(model[0]*x + model[1], y-(model[0]*x + model[1]), 'ro',label='Residuals')\n",
    "pyplot.axhline(0,c='k')\n",
    "pyplot.title(\"Residuals vs Fitted\")\n",
    "pyplot.show()"
   ]
  },
  {
   "cell_type": "code",
   "execution_count": 16,
   "id": "measured-destination",
   "metadata": {},
   "outputs": [
    {
     "data": {
      "image/png": "[encoded data removed]",
      "text/plain": [
       "<Figure size 432x288 with 1 Axes>"
      ]
     },
     "metadata": {},
     "output_type": "display_data"
    }
   ],
   "source": [
    "qqplot(y-(model[0]*x + model[1]),norm,fit=True,line=\"45\") \n",
    "pyplot.title(\"Normal Q-Q Plot\")\n",
    "pyplot.show()"
   ]
  },
  {
   "cell_type": "code",
   "execution_count": 17,
   "id": "visible-winner",
   "metadata": {},
   "outputs": [
    {
     "data": {
      "image/png": "[encoded data removed]",
      "text/plain": [
       "<Figure size 432x288 with 1 Axes>"
      ]
     },
     "metadata": {},
     "output_type": "display_data"
    }
   ],
   "source": [
    "_ = pyplot.plot(x, y, 'o')\n",
    "_ = pyplot.plot(x, model[1] + model[0]*x, 'r--', label='OLS Fitted line')\n",
    "_ = pyplot.xlabel(\"Food Rating\")\n",
    "_ = pyplot.ylabel(\"Average Price\")\n",
    "_ = pyplot.title(\"Food Rating vs Average Price\")\n",
    "_ = pyplot.legend()\n",
    "pyplot.show()"
   ]
  },
  {
   "cell_type": "markdown",
   "id": "damaged-serial",
   "metadata": {},
   "source": [
    "## Bayesian Linear Regression"
   ]
  },
  {
   "cell_type": "markdown",
   "id": "fiscal-specific",
   "metadata": {},
   "source": [
    "We will now use the same data set, Zagat, and try to fit a linear regression model using Bayesian Statistics. The first part is where we use an informed prior i.e. we have an example where we already know something about the data. Assume, for example purposes, that we think the intercept and slope should be centred around 0 with a standard deviation of 5. We use the pymc3 package to create prior normal distributions. Then, we use the NUTS command; which uses No-U-Turn Sampling(a kind of Markov Chain Monte Carlo method) to estimate the steps for determining the posterior. Finally, we create the posterior distribution for the intercept, slope and standard deviation. The number of iterations can be changed from 100. Using more iterations is usually better for sampling. \n",
    "Note: This code might take a long time to run."
   ]
  },
  {
   "cell_type": "markdown",
   "id": "aggregate-winning",
   "metadata": {},
   "source": [
    "### Informed Prior"
   ]
  },
  {
   "cell_type": "code",
   "execution_count": null,
   "id": "secret-dialogue",
   "metadata": {},
   "outputs": [],
   "source": [
    "with pm.Model() as linear_model_informed:\n",
    "    # Intercept\n",
    "    intercept = pm.Normal(\"Intercept\", mu = 0, sd = 5)\n",
    "    \n",
    "    # Slope \n",
    "    slope = slope1 = pm.Normal(\"slope\", mu = 0, sd = 5)\n",
    "    \n",
    "    # Standard deviation\n",
    "    sigma = pm.HalfNormal(\"sigma\", sd = 10)\n",
    "    \n",
    "    # Estimate of mean\n",
    "    mean = intercept + slope * NYCDf[\"Food\"]\n",
    "    \n",
    "    # Observed values\n",
    "    Y_obs = pm.Normal('Y_obs', mu = mean, sd = sigma, observed = NYCDf[\"Price\"].values)\n",
    "    \n",
    "    # Sampler\n",
    "    step = pm.NUTS()\n",
    "\n",
    "    # Posterior distribution\n",
    "    linear_trace_informed = pm.sample(100, step)"
   ]
  },
  {
   "cell_type": "code",
   "execution_count": null,
   "id": "quality-logic",
   "metadata": {},
   "outputs": [],
   "source": [
    "pm.traceplot(linear_trace_informed, figsize = (12, 12))"
   ]
  },
  {
   "cell_type": "markdown",
   "id": "major-majority",
   "metadata": {},
   "source": [
    "The traceplot shows the different values that are sampled by the MCMC method. It peaks around the mean of the posterior distribution. The histograms below show the posterior distributions for intercept, coefficient and standard deviation. "
   ]
  },
  {
   "cell_type": "code",
   "execution_count": null,
   "id": "literary-bacteria",
   "metadata": {},
   "outputs": [],
   "source": [
    "pm.plot_posterior(linear_trace_informed, figsize = (8, 8), kind = \"hist\")"
   ]
  },
  {
   "cell_type": "markdown",
   "id": "informal-address",
   "metadata": {},
   "source": [
    "We will now make a prediction using Bayesian regression and OLS regression for when the food rating is 23."
   ]
  },
  {
   "cell_type": "code",
   "execution_count": null,
   "id": "loved-preservation",
   "metadata": {},
   "outputs": [],
   "source": [
    "pm.plot_posterior_predictive_glm(linear_trace_informed, samples = 100, eval=np.linspace(16,25, 100), linewidth = 1, \n",
    "                                 color = \"red\", alpha = 0.8, label = \"Posterior Distribution Fitted Lines\",\n",
    "                                lm = lambda x, sample: sample[\"Intercept\"] + sample[\"slope\"] * x);\n",
    "pyplot.scatter(NYCDf[\"Food\"], y.values, s = 12, alpha = 0.8, c = \"blue\")\n",
    "pyplot.title(\"Posterior Predictions\")\n",
    "pyplot.xlabel(\"Food Rating\")\n",
    "pyplot.ylabel(\"Average Price\")\n",
    "pyplot.legend()"
   ]
  },
  {
   "cell_type": "code",
   "execution_count": null,
   "id": "pointed-puppy",
   "metadata": {},
   "outputs": [],
   "source": [
    "pyplot.scatter(NYCDf[\"Food\"], y.values, s = 12, alpha = 0.8, c = \"blue\")\n",
    "pyplot.plot(x, model[1] + model[0]*x, 'r--', label='OLS Fitted line')\n",
    "pyplot.plot(x, -7.4 + 2.4*x, 'black', label='Bayesian Fitted Line')\n",
    "pyplot.title(\"Food Rating vs Average Price\")\n",
    "pyplot.xlabel(\"Food Rating\")\n",
    "pyplot.ylabel(\"Average Price\")\n",
    "pyplot.legend()"
   ]
  },
  {
   "cell_type": "code",
   "execution_count": null,
   "id": "smaller-narrative",
   "metadata": {},
   "outputs": [],
   "source": [
    "bayes_prediction = linear_trace_informed[\"Intercept\"] + linear_trace_informed[\"slope\"] * 23"
   ]
  },
  {
   "cell_type": "code",
   "execution_count": null,
   "id": "southwest-macro",
   "metadata": {},
   "outputs": [],
   "source": [
    "sn.kdeplot(bayes_prediction, label = 'Posterior Prediction')\n",
    "pyplot.vlines(x = model[1] + model[0] * 23, ymin = 0, ymax = 0.7, label = 'OLS Prediction', colors = 'red', linestyles='--')\n",
    "pyplot.legend()\n",
    "pyplot.xlabel(\"Average Price\")\n",
    "pyplot.ylabel(\"Probability Density\")\n",
    "pyplot.title(\"Posterior Prediction for Food Rating of 23\")"
   ]
  },
  {
   "cell_type": "markdown",
   "id": "charged-grain",
   "metadata": {},
   "source": [
    "### Uninformed Prior"
   ]
  },
  {
   "cell_type": "markdown",
   "id": "elementary-concentrate",
   "metadata": {},
   "source": [
    "For the next part of Bayesian Linear Regression, we will make posterior distributions using prior distributions that do not have as much information. In order to make uninformed priors, we change the standard deviation for the intercept and coefficient to 100. A large standard deviation suggests that we are not sure about our prior values which is why our data has a greater effect on the posterior distribution. We use the same sampling method to generate the posterior distribution."
   ]
  },
  {
   "cell_type": "code",
   "execution_count": null,
   "id": "orange-carbon",
   "metadata": {},
   "outputs": [],
   "source": [
    "with pm.Model() as linear_model_uninformed:\n",
    "    # Intercept\n",
    "    intercept = pm.Normal(\"Intercept\", mu = 0, sd = 100)\n",
    "    \n",
    "    # Slope \n",
    "    slope = slope1 = pm.Normal(\"slope\", mu = 0, sd = 100)\n",
    "    \n",
    "    # Standard deviation\n",
    "    sigma = pm.HalfNormal(\"sigma\", sd = 10)\n",
    "    \n",
    "    # Estimate of mean\n",
    "    mean = intercept + slope * NYCDf[\"Food\"]\n",
    "    \n",
    "    # Observed values\n",
    "    Y_obs = pm.Normal('Y_obs', mu = mean, sd = sigma, observed = NYCDf[\"Price\"].values)\n",
    "    \n",
    "    # Sampler\n",
    "    step = pm.NUTS()\n",
    "\n",
    "    # Posterior distribution\n",
    "    linear_trace_uninformed = pm.sample(100, step)"
   ]
  },
  {
   "cell_type": "code",
   "execution_count": null,
   "id": "painted-programming",
   "metadata": {},
   "outputs": [],
   "source": [
    "pm.traceplot(linear_trace_uninformed, figsize = (12, 12))"
   ]
  },
  {
   "cell_type": "code",
   "execution_count": null,
   "id": "proud-missile",
   "metadata": {},
   "outputs": [],
   "source": [
    "pm.plot_posterior(linear_trace_uninformed, figsize = (5, 5), kind = \"hist\")"
   ]
  },
  {
   "cell_type": "code",
   "execution_count": null,
   "id": "vocal-setup",
   "metadata": {},
   "outputs": [],
   "source": [
    "pm.plot_posterior_predictive_glm(linear_trace_uninformed, samples = 100, eval=np.linspace(16,25, 100), linewidth = 1, \n",
    "                                 color = \"red\", alpha = 0.8, label = \"Posterior Distribution Fitted Line\",\n",
    "                                lm = lambda x, sample: sample[\"Intercept\"] + sample[\"slope\"] * x);\n",
    "pyplot.scatter(NYCDf[\"Food\"], y.values, s = 12, alpha = 0.8, c = \"blue\")\n",
    "pyplot.title(\"Posterior Predictions\")\n",
    "pyplot.xlabel(\"Food Rating\")\n",
    "pyplot.ylabel(\"Average Price\")\n",
    "pyplot.legend()"
   ]
  },
  {
   "cell_type": "code",
   "execution_count": null,
   "id": "adverse-success",
   "metadata": {},
   "outputs": [],
   "source": [
    "bayes_prediction = linear_trace_uninformed[\"Intercept\"] + linear_trace_uninformed[\"slope\"] * 23"
   ]
  },
  {
   "cell_type": "code",
   "execution_count": null,
   "id": "complicated-broadcasting",
   "metadata": {},
   "outputs": [],
   "source": [
    "sn.kdeplot(bayes_prediction, label = 'Posterior Prediction')\n",
    "pyplot.vlines(x = model[1] + model[0] * 23, ymin = 0, ymax = 0.7, label = 'OLS Prediction', colors = 'red', linestyles='--')\n",
    "pyplot.legend()\n",
    "pyplot.xlabel(\"Average Price\")\n",
    "pyplot.ylabel(\"Probability Density\")\n",
    "pyplot.title(\"Posterior Prediction for Food Rating of 23\")"
   ]
  },
  {
   "cell_type": "markdown",
   "id": "applied-monster",
   "metadata": {},
   "source": [
    "Prediction works the same way for an uninformed prior and as you can see, the mean of the Bayesian prediction distribution is closer to the OLS predicted value."
   ]
  },
  {
   "cell_type": "markdown",
   "id": "hispanic-latin",
   "metadata": {},
   "source": [
    "This notebook uses the Zagat dataset in order to create a linear model to predict food prices based on food ratings by using Ordinary Least Squares and Bayesian linear regression."
   ]
  },
  {
   "cell_type": "code",
   "execution_count": null,
   "id": "governing-storm",
   "metadata": {},
   "outputs": [],
   "source": []
  }
 ],
 "metadata": {
  "kernelspec": {
   "display_name": "Python 3",
   "language": "python",
   "name": "python3"
  },
  "language_info": {
   "codemirror_mode": {
    "name": "ipython",
    "version": 3
   },
   "file_extension": ".py",
   "mimetype": "text/x-python",
   "name": "python",
   "nbconvert_exporter": "python",
   "pygments_lexer": "ipython3",
   "version": "3.8.5"
  }
 },
 "nbformat": 4,
 "nbformat_minor": 5
}
