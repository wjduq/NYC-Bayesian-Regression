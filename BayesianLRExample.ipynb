{
 "cells": [
  {
   "cell_type": "code",
   "execution_count": null,
   "id": "honest-chinese",
   "metadata": {},
   "outputs": [],
   "source": [
    "#Import necessary libraries\n",
    "import pandas as pd\n",
    "import numpy as np\n",
    "from pathlib import Path\n",
    "import seaborn as sn\n",
    "import matplotlib.pyplot as pyplot\n",
    "import pymc3 as pm\n",
    "\n",
    "from pymc3 import traceplot\n",
    "\n",
    "\n",
    "# Linear Regression to verify implementation\n",
    "from sklearn.linear_model import LinearRegression\n",
    "\n",
    "# Scipy for statistics\n",
    "import scipy\n",
    "import theano\n",
    "\n",
    "from arviz.utils import Numba\n",
    "Numba.disable_numba()\n",
    "Numba.numba_flag\n",
    "\n",
    "\n",
    "import arviz as az #pymc3 plot functions use Arviz. Either command works. Ex: az.plot_posterior = pm.plot_posterior"
   ]
  },
  {
   "cell_type": "code",
   "execution_count": null,
   "id": "diagnostic-richmond",
   "metadata": {},
   "outputs": [],
   "source": [
    "#Import Data\n",
    "NYCData = \"nyc.csv\" \n",
    "NYCDf = pd.read_csv(NYCData)\n",
    "\n",
    "NYCDf.drop([\"Unnamed: 0\", \"X\", \"Case\"], axis = 1, inplace = True)\n",
    "NYCDf.set_index(\"Restaurant\", inplace = True)\n",
    "NYCDf[\"Intercept\"] = 1\n",
    "\n",
    "NYCDf"
   ]
  },
  {
   "cell_type": "code",
   "execution_count": null,
   "id": "incorrect-priority",
   "metadata": {},
   "outputs": [],
   "source": [
    "pyplot.style.use('fivethirtyeight')\n",
    "pyplot.plot(NYCDf[\"Food\"],NYCDf[\"Price\"], \"bo\")\n",
    "pyplot.xlabel(\"Food Rating\")\n",
    "pyplot.ylabel(\"Average Price\")\n",
    "pyplot.title(\"Food Rating vs Average Price\")\n",
    "pyplot.show()"
   ]
  },
  {
   "cell_type": "code",
   "execution_count": null,
   "id": "hispanic-korea",
   "metadata": {},
   "outputs": [],
   "source": [
    "x = NYCDf[\"Food\"]\n",
    "y = NYCDf[\"Price\"]\n",
    "\n",
    "A = np.vstack([x, np.ones(len(x))]).T"
   ]
  },
  {
   "cell_type": "code",
   "execution_count": null,
   "id": "strong-buyer",
   "metadata": {},
   "outputs": [],
   "source": [
    "model, SSE = np.linalg.lstsq(A, y, rcond=None)[:2]\n",
    "\n",
    "print(f\"\"\"The values gathered from our data are {model[1]} for our intercept and {model[0]} for our slope.\"\"\")"
   ]
  },
  {
   "cell_type": "code",
   "execution_count": null,
   "id": "systematic-delay",
   "metadata": {},
   "outputs": [],
   "source": [
    "pyplot.style.use('fivethirtyeight')\n",
    "_ =pyplot.plot(x, y, 'o', label='Original data')\n",
    "_ = pyplot.plot(x, model[0]*x + model[1], 'r--', label='OLS Fitted line')\n",
    "_ = pyplot.xlabel(\"Food Rating\")\n",
    "_ = pyplot.ylabel(\"Average Price\")\n",
    "_ = pyplot.title(\"Food Rating vs Average Price\")\n",
    "_ = pyplot.legend()\n",
    "pyplot.show()"
   ]
  },
  {
   "cell_type": "markdown",
   "id": "still-demonstration",
   "metadata": {},
   "source": [
    "# Informed Prior"
   ]
  },
  {
   "cell_type": "code",
   "execution_count": null,
   "id": "fitting-victim",
   "metadata": {},
   "outputs": [],
   "source": [
    "with pm.Model() as linear_model_informed:\n",
    "    # Intercept\n",
    "    intercept = pm.Normal(\"Intercept\", mu = 0, sd = 5)\n",
    "    \n",
    "    # Slope \n",
    "    slope = slope1 = pm.Normal(\"slope\", mu = 0, sd = 5)\n",
    "    \n",
    "    # Standard deviation\n",
    "    sigma = pm.HalfNormal(\"sigma\", sd = 10)\n",
    "    \n",
    "    # Estimate of mean\n",
    "    mean = intercept + slope * NYCDf[\"Food\"]\n",
    "    \n",
    "    #start = pm.find_MAP()\n",
    "    \n",
    "    #step = pm.NUTS()\n",
    "    \n",
    "#     trace = pm.sample(\n",
    "#             1000, step, start, \n",
    "#             random_seed=42, progressbar=True\n",
    "#         )\n",
    "    \n",
    "    # Observed values\n",
    "    Y_obs = pm.Normal('Y_obs', mu = mean, sd = sigma, observed = NYCDf[\"Price\"].values)\n",
    "    \n",
    "    # Sampler\n",
    "    step = pm.NUTS()\n",
    "\n",
    "    # Posterior distribution\n",
    "    linear_trace_informed = pm.sample(100, step)"
   ]
  },
  {
   "cell_type": "code",
   "execution_count": null,
   "id": "confidential-fraud",
   "metadata": {
    "scrolled": false
   },
   "outputs": [],
   "source": [
    "pm.traceplot(linear_trace_informed, figsize = (12, 12))"
   ]
  },
  {
   "cell_type": "code",
   "execution_count": null,
   "id": "a7978d0a",
   "metadata": {},
   "outputs": [],
   "source": [
    "pm.plot_posterior(linear_trace_informed, figsize = (5, 5), kind = \"hist\")"
   ]
  },
  {
   "cell_type": "code",
   "execution_count": null,
   "id": "0dc90dae",
   "metadata": {},
   "outputs": [],
   "source": [
    "pm.plot_posterior_predictive_glm(linear_trace_informed, samples = 100, eval=np.linspace(16,25, 100), linewidth = 1, \n",
    "                                 color = \"red\", alpha = 0.8, label = \"Posterior Distribution Fitted Line\",\n",
    "                                lm = lambda x, sample: sample[\"Intercept\"] + sample[\"slope\"] * x);\n",
    "pyplot.scatter(NYCDf[\"Food\"], y.values, s = 12, alpha = 0.8, c = \"blue\", label = \"Observations\")\n",
    "pyplot.title(\"Posterior Predictions\")\n",
    "pyplot.xlabel(\"Food Rating\")\n",
    "pyplot.ylabel(\"Average Price\")\n",
    "pyplot.legend()"
   ]
  },
  {
   "cell_type": "code",
   "execution_count": null,
   "id": "spectacular-atmosphere",
   "metadata": {},
   "outputs": [],
   "source": [
    "bayes_prediction = linear_trace_informed[\"Intercept\"] + linear_trace_informed[\"slope\"] * 20"
   ]
  },
  {
   "cell_type": "code",
   "execution_count": null,
   "id": "positive-algeria",
   "metadata": {},
   "outputs": [],
   "source": [
    "sn.kdeplot(bayes_prediction, label = 'Posterior Prediction')\n",
    "pyplot.vlines(x = model[1] + model[0] * 20, ymin = 0, ymax = 0.7, label = 'OLS Prediction', colors = 'red', linestyles='--')\n",
    "pyplot.legend()\n",
    "pyplot.xlabel(\"Food Rating\")\n",
    "pyplot.ylabel(\"Average Price\")\n",
    "pyplot.title(\"Posterior Prediction for Food Rating of 20\")"
   ]
  },
  {
   "cell_type": "markdown",
   "id": "tender-lyric",
   "metadata": {},
   "source": [
    "# Uninformed"
   ]
  },
  {
   "cell_type": "code",
   "execution_count": null,
   "id": "decreased-reality",
   "metadata": {},
   "outputs": [],
   "source": [
    "with pm.Model() as linear_model_uninformed:\n",
    "    # Intercept\n",
    "    intercept = pm.Normal(\"Intercept\", mu = 0, sd = 100)\n",
    "    \n",
    "    # Slope \n",
    "    slope = slope1 = pm.Normal(\"slope\", mu = 0, sd = 100)\n",
    "    \n",
    "    # Standard deviation\n",
    "    sigma = pm.HalfNormal(\"sigma\", sd = 10)\n",
    "    \n",
    "    # Estimate of mean\n",
    "    mean = intercept + slope * NYCDf[\"Food\"]\n",
    "    \n",
    "    #start = pm.find_MAP()\n",
    "    \n",
    "    step = pm.NUTS()\n",
    "    \n",
    "#     trace = pm.sample(\n",
    "#             1000, step, start, \n",
    "#             random_seed=42, progressbar=True\n",
    "#         )\n",
    "    \n",
    "    # Observed values\n",
    "    Y_obs = pm.Normal('Y_obs', mu = mean, sd = sigma, observed = NYCDf[\"Price\"].values)\n",
    "    \n",
    "    # Sampler\n",
    "    step = pm.NUTS()\n",
    "\n",
    "    # Posterior distribution\n",
    "    linear_trace_uninformed = pm.sample(10000, step)"
   ]
  },
  {
   "cell_type": "code",
   "execution_count": null,
   "id": "compliant-ribbon",
   "metadata": {},
   "outputs": [],
   "source": [
    "pm.traceplot(linear_trace_uninformed, figsize = (12, 12))"
   ]
  },
  {
   "cell_type": "code",
   "execution_count": null,
   "id": "changing-sunglasses",
   "metadata": {},
   "outputs": [],
   "source": [
    "pm.plot_posterior(linear_trace_uninformed, figsize = (5, 5), kind = \"hist\")"
   ]
  },
  {
   "cell_type": "code",
   "execution_count": null,
   "id": "appropriate-superintendent",
   "metadata": {},
   "outputs": [],
   "source": [
    "pm.plot_posterior_predictive_glm(linear_trace_uninformed, samples = 100, eval=np.linspace(16,25, 100), linewidth = 1, \n",
    "                                 color = \"red\", alpha = 0.8, label = \"Posterior Distribution Fitted Line\",\n",
    "                                lm = lambda x, sample: sample[\"Intercept\"] + sample[\"slope\"] * x);\n",
    "pyplot.scatter(NYCDf[\"Food\"], y.values, s = 12, alpha = 0.8, c = \"blue\", label = \"Observations\")\n",
    "pyplot.title(\"Posterior Predictions\")\n",
    "pyplot.xlabel(\"Food Rating\")\n",
    "pyplot.ylabel(\"Average Price\")\n",
    "pyplot.legend()"
   ]
  },
  {
   "cell_type": "code",
   "execution_count": null,
   "id": "prerequisite-coaching",
   "metadata": {},
   "outputs": [],
   "source": [
    "bayes_prediction = linear_trace_uninformed[\"Intercept\"] + linear_trace_uninformed[\"slope\"] * 20"
   ]
  },
  {
   "cell_type": "code",
   "execution_count": null,
   "id": "becoming-egypt",
   "metadata": {},
   "outputs": [],
   "source": [
    "sn.kdeplot(bayes_prediction, label = 'Posterior Prediction')\n",
    "pyplot.vlines(x = model[1] + model[0] * 20, ymin = 0, ymax = 0.7, label = 'OLS Prediction', colors = 'red', linestyles='--')\n",
    "pyplot.legend()\n",
    "pyplot.xlabel(\"Food Rating\")\n",
    "pyplot.ylabel(\"Average Price\")\n",
    "pyplot.title(\"Posterior Prediction for Food Rating of 20\")"
   ]
  }
 ],
 "metadata": {
  "kernelspec": {
   "display_name": "Python 3 (ipykernel)",
   "language": "python",
   "name": "python3"
  },
  "language_info": {
   "codemirror_mode": {
    "name": "ipython",
    "version": 3
   },
   "file_extension": ".py",
   "mimetype": "text/x-python",
   "name": "python",
   "nbconvert_exporter": "python",
   "pygments_lexer": "ipython3",
   "version": "3.7.11"
  }
 },
 "nbformat": 4,
 "nbformat_minor": 5
}
