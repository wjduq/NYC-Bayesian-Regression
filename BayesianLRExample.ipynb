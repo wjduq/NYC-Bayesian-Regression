{
 "cells": [
  {
   "cell_type": "markdown",
   "id": "pediatric-interference",
   "metadata": {},
   "source": [
    "# OLS vs Bayesian Linear Regression "
   ]
  },
  {
   "cell_type": "code",
   "execution_count": 1,
   "id": "reserved-heaven",
   "metadata": {},
   "outputs": [],
   "source": [
    "#Import necessary libraries\n",
    "import pandas as pd\n",
    "import numpy as np\n",
    "from pathlib import Path\n",
    "import seaborn as sn\n",
    "import matplotlib.pyplot as pyplot\n",
    "import pymc3 as pm\n",
    "from statsmodels.graphics.gofplots import qqplot \n",
    "\n",
    "#from pymc3 import traceplot\n",
    "\n",
    "# Scipy for statistics\n",
    "import scipy\n",
    "from scipy.stats import norm\n",
    "import theano\n",
    "\n",
    "from arviz.utils import Numba\n",
    "Numba.disable_numba()\n",
    "Numba.numba_flag\n",
    "\n",
    "\n",
    "import arviz as az #pymc3 plot functions use Arviz. Either command works. Ex: az.plot_posterior = pm.plot_posterior"
   ]
  },
  {
   "cell_type": "markdown",
   "id": "appointed-arnold",
   "metadata": {},
   "source": [
    "The data set we are working with, Zagat, has data about $168$ Italian restaurants in New York and ratings customers provided for each restaurant's food, ambiance, etc., along with the average price. The question we are interested in answering: Is the average price of food at restaurants dependent on the average food rating?"
   ]
  },
  {
   "cell_type": "code",
   "execution_count": 2,
   "id": "diagnostic-richmond",
   "metadata": {},
   "outputs": [
    {
     "data": {
      "text/html": [
       "<div>\n",
       "<style scoped>\n",
       "    .dataframe tbody tr th:only-of-type {\n",
       "        vertical-align: middle;\n",
       "    }\n",
       "\n",
       "    .dataframe tbody tr th {\n",
       "        vertical-align: top;\n",
       "    }\n",
       "\n",
       "    .dataframe thead th {\n",
       "        text-align: right;\n",
       "    }\n",
       "</style>\n",
       "<table border=\"1\" class=\"dataframe\">\n",
       "  <thead>\n",
       "    <tr style=\"text-align: right;\">\n",
       "      <th></th>\n",
       "      <th>Price</th>\n",
       "      <th>Food</th>\n",
       "      <th>Decor</th>\n",
       "      <th>Service</th>\n",
       "      <th>East</th>\n",
       "    </tr>\n",
       "    <tr>\n",
       "      <th>Restaurant</th>\n",
       "      <th></th>\n",
       "      <th></th>\n",
       "      <th></th>\n",
       "      <th></th>\n",
       "      <th></th>\n",
       "    </tr>\n",
       "  </thead>\n",
       "  <tbody>\n",
       "    <tr>\n",
       "      <th>Daniella Ristorante</th>\n",
       "      <td>43</td>\n",
       "      <td>22</td>\n",
       "      <td>18</td>\n",
       "      <td>20</td>\n",
       "      <td>0</td>\n",
       "    </tr>\n",
       "    <tr>\n",
       "      <th>Tello's Ristorante</th>\n",
       "      <td>32</td>\n",
       "      <td>20</td>\n",
       "      <td>19</td>\n",
       "      <td>19</td>\n",
       "      <td>0</td>\n",
       "    </tr>\n",
       "    <tr>\n",
       "      <th>Biricchino</th>\n",
       "      <td>34</td>\n",
       "      <td>21</td>\n",
       "      <td>13</td>\n",
       "      <td>18</td>\n",
       "      <td>0</td>\n",
       "    </tr>\n",
       "    <tr>\n",
       "      <th>Bottino</th>\n",
       "      <td>41</td>\n",
       "      <td>20</td>\n",
       "      <td>20</td>\n",
       "      <td>17</td>\n",
       "      <td>0</td>\n",
       "    </tr>\n",
       "    <tr>\n",
       "      <th>Da Umberto</th>\n",
       "      <td>54</td>\n",
       "      <td>24</td>\n",
       "      <td>19</td>\n",
       "      <td>21</td>\n",
       "      <td>0</td>\n",
       "    </tr>\n",
       "    <tr>\n",
       "      <th>...</th>\n",
       "      <td>...</td>\n",
       "      <td>...</td>\n",
       "      <td>...</td>\n",
       "      <td>...</td>\n",
       "      <td>...</td>\n",
       "    </tr>\n",
       "    <tr>\n",
       "      <th>Baci</th>\n",
       "      <td>31</td>\n",
       "      <td>17</td>\n",
       "      <td>15</td>\n",
       "      <td>16</td>\n",
       "      <td>0</td>\n",
       "    </tr>\n",
       "    <tr>\n",
       "      <th>Puccini</th>\n",
       "      <td>26</td>\n",
       "      <td>20</td>\n",
       "      <td>16</td>\n",
       "      <td>17</td>\n",
       "      <td>0</td>\n",
       "    </tr>\n",
       "    <tr>\n",
       "      <th>Bella Luna</th>\n",
       "      <td>31</td>\n",
       "      <td>18</td>\n",
       "      <td>16</td>\n",
       "      <td>17</td>\n",
       "      <td>0</td>\n",
       "    </tr>\n",
       "    <tr>\n",
       "      <th>Metisse</th>\n",
       "      <td>38</td>\n",
       "      <td>22</td>\n",
       "      <td>17</td>\n",
       "      <td>21</td>\n",
       "      <td>0</td>\n",
       "    </tr>\n",
       "    <tr>\n",
       "      <th>Gennaro</th>\n",
       "      <td>34</td>\n",
       "      <td>24</td>\n",
       "      <td>10</td>\n",
       "      <td>16</td>\n",
       "      <td>0</td>\n",
       "    </tr>\n",
       "  </tbody>\n",
       "</table>\n",
       "<p>168 rows × 5 columns</p>\n",
       "</div>"
      ],
      "text/plain": [
       "                     Price  Food  Decor  Service  East\n",
       "Restaurant                                            \n",
       "Daniella Ristorante     43    22     18       20     0\n",
       "Tello's Ristorante      32    20     19       19     0\n",
       "Biricchino              34    21     13       18     0\n",
       "Bottino                 41    20     20       17     0\n",
       "Da Umberto              54    24     19       21     0\n",
       "...                    ...   ...    ...      ...   ...\n",
       "Baci                    31    17     15       16     0\n",
       "Puccini                 26    20     16       17     0\n",
       "Bella Luna              31    18     16       17     0\n",
       "Metisse                 38    22     17       21     0\n",
       "Gennaro                 34    24     10       16     0\n",
       "\n",
       "[168 rows x 5 columns]"
      ]
     },
     "execution_count": 2,
     "metadata": {},
     "output_type": "execute_result"
    }
   ],
   "source": [
    "#Import Data\n",
    "NYCData = \"nyc.csv\" \n",
    "NYCDf = pd.read_csv(NYCData)\n",
    "\n",
    "NYCDf.drop([\"Unnamed: 0\", \"X\", \"Case\"], axis = 1, inplace = True)\n",
    "NYCDf.set_index(\"Restaurant\", inplace = True)\n",
    "#NYCDf[\"Intercept\"] = 1\n",
    "\n",
    "NYCDf"
   ]
  },
  {
   "cell_type": "markdown",
   "id": "bright-arbor",
   "metadata": {},
   "source": [
    "We first need to make a scatterplot to determine if linear regression is appropriate. Remember the question we are trying to answer is whether average price of food is dependent on the average food rating. So for this question, the restaurant's average price will be our response variable, and the food rating will be our explanatory variable. See code below to make needed scatterplot."
   ]
  },
  {
   "cell_type": "code",
   "execution_count": 3,
   "id": "incorrect-priority",
   "metadata": {},
   "outputs": [
    {
     "data": {
      "image/png": "[encoded data removed]",
      "text/plain": [
       "<Figure size 432x288 with 1 Axes>"
      ]
     },
     "metadata": {},
     "output_type": "display_data"
    }
   ],
   "source": [
    "pyplot.style.use('fivethirtyeight')\n",
    "pyplot.plot(NYCDf[\"Food\"],NYCDf[\"Price\"], \"bo\")\n",
    "pyplot.xlabel(\"Food Rating\")\n",
    "pyplot.ylabel(\"Average Price\")\n",
    "pyplot.title(\"Food Rating vs Average Price\")\n",
    "pyplot.show()"
   ]
  },
  {
   "cell_type": "markdown",
   "id": "buried-equity",
   "metadata": {},
   "source": [
    "## Ordinary Least Squares Regression"
   ]
  },
  {
   "cell_type": "markdown",
   "id": "comfortable-comedy",
   "metadata": {},
   "source": [
    "Now that we can see the variables have a linear relationship we can continue with our analysis. First we must fit a OLS linear regression model. First, we must gather the data for our two variables and build our linear model. Next , we will build our linear model by using Numpy's lstsq tool. Below you can see the output the OLS linear model."
   ]
  },
  {
   "cell_type": "code",
   "execution_count": 4,
   "id": "hispanic-korea",
   "metadata": {},
   "outputs": [
    {
     "name": "stdout",
     "output_type": "stream",
     "text": [
      "The values gathered from our data are -17.83214855650661 for our intercept and 2.9389598143043676 for our slope.\n"
     ]
    }
   ],
   "source": [
    "x = NYCDf[\"Food\"]\n",
    "y = NYCDf[\"Price\"]\n",
    "\n",
    "A = np.vstack([x, np.ones(len(x))]).T\n",
    "model, SSE = np.linalg.lstsq(A, y, rcond=None)[:2]\n",
    "\n",
    "print(f\"\"\"The values gathered from our data are {model[1]} for our intercept and {model[0]} for our slope.\"\"\")"
   ]
  },
  {
   "cell_type": "markdown",
   "id": "educational-falls",
   "metadata": {},
   "source": [
    "Below is the residuals vs fitted, and QQ plot for our OLS linear model"
   ]
  },
  {
   "cell_type": "code",
   "execution_count": 6,
   "id": "unsigned-richmond",
   "metadata": {},
   "outputs": [
    {
     "data": {
      "image/png": "[encoded data removed]",
      "text/plain": [
       "<Figure size 432x288 with 2 Axes>"
      ]
     },
     "metadata": {},
     "output_type": "display_data"
    },
    {
     "data": {
      "image/png": "[encoded data removed]",
      "text/plain": [
       "<Figure size 432x288 with 1 Axes>"
      ]
     },
     "metadata": {},
     "output_type": "display_data"
    }
   ],
   "source": [
    "pyplot.subplot(1, 2, 1) # row 1, col 2 index 1\n",
    "pyplot.plot(model[0]*x + model[1], y-(model[0]*x + model[1]), 'ro',label='Residuals', markersize=10)\n",
    "pyplot.legend()\n",
    "pyplot.title(\"Residuals vs Fitted\")\n",
    "pyplot.axhline(0,c='k')\n",
    "\n",
    "pyplot.subplot(1, 2, 2) # index 2\n",
    "qqplot(y-(model[0]*x + model[1]),norm,fit=True,line=\"45\") \n",
    "pyplot.title(\"Normal Q-Q Plot\")\n",
    "pyplot.show()"
   ]
  },
  {
   "cell_type": "code",
   "execution_count": null,
   "id": "systematic-delay",
   "metadata": {},
   "outputs": [],
   "source": [
    "_ = pyplot.plot(x, y, 'o')\n",
    "_ = pyplot.plot(x, model[1] + model[0]*x, 'r--', label='OLS Fitted line')\n",
    "_ = pyplot.xlabel(\"Food Rating\")\n",
    "_ = pyplot.ylabel(\"Average Price\")\n",
    "_ = pyplot.title(\"Food Rating vs Average Price\")\n",
    "_ = pyplot.legend()\n",
    "pyplot.show()"
   ]
  },
  {
   "cell_type": "markdown",
   "id": "still-demonstration",
   "metadata": {},
   "source": [
    "# Informed Prior"
   ]
  },
  {
   "cell_type": "code",
   "execution_count": null,
   "id": "fitting-victim",
   "metadata": {},
   "outputs": [],
   "source": [
    "with pm.Model() as linear_model_informed:\n",
    "    # Intercept\n",
    "    intercept = pm.Normal(\"Intercept\", mu = 0, sd = 5)\n",
    "    \n",
    "    # Slope \n",
    "    slope = slope1 = pm.Normal(\"slope\", mu = 0, sd = 5)\n",
    "    \n",
    "    # Standard deviation\n",
    "    sigma = pm.HalfNormal(\"sigma\", sd = 10)\n",
    "    \n",
    "    # Estimate of mean\n",
    "    mean = intercept + slope * NYCDf[\"Food\"]\n",
    "    \n",
    "    # Observed values\n",
    "    Y_obs = pm.Normal('Y_obs', mu = mean, sd = sigma, observed = NYCDf[\"Price\"].values)\n",
    "    \n",
    "    # Sampler\n",
    "    step = pm.NUTS()\n",
    "\n",
    "    # Posterior distribution\n",
    "    linear_trace_informed = pm.sample(100, step)"
   ]
  },
  {
   "cell_type": "code",
   "execution_count": null,
   "id": "confidential-fraud",
   "metadata": {
    "scrolled": false
   },
   "outputs": [],
   "source": [
    "pm.traceplot(linear_trace_informed, figsize = (12, 12))"
   ]
  },
  {
   "cell_type": "code",
   "execution_count": null,
   "id": "a7978d0a",
   "metadata": {},
   "outputs": [],
   "source": [
    "pm.plot_posterior(linear_trace_informed, figsize = (8, 8), kind = \"hist\")"
   ]
  },
  {
   "cell_type": "code",
   "execution_count": null,
   "id": "0dc90dae",
   "metadata": {},
   "outputs": [],
   "source": [
    "pm.plot_posterior_predictive_glm(linear_trace_informed, samples = 100, eval=np.linspace(16,25, 100), linewidth = 1, \n",
    "                                 color = \"red\", alpha = 0.8, label = \"Posterior Distribution Fitted Lines\",\n",
    "                                lm = lambda x, sample: sample[\"Intercept\"] + sample[\"slope\"] * x);\n",
    "pyplot.scatter(NYCDf[\"Food\"], y.values, s = 12, alpha = 0.8, c = \"blue\")\n",
    "pyplot.title(\"Posterior Predictions\")\n",
    "pyplot.xlabel(\"Food Rating\")\n",
    "pyplot.ylabel(\"Average Price\")\n",
    "pyplot.legend()"
   ]
  },
  {
   "cell_type": "code",
   "execution_count": null,
   "id": "divided-yemen",
   "metadata": {},
   "outputs": [],
   "source": [
    "pyplot.scatter(NYCDf[\"Food\"], y.values, s = 12, alpha = 0.8, c = \"blue\")\n",
    "pyplot.plot(x, model[1] + model[0]*x, 'r--', label='OLS Fitted line')\n",
    "pyplot.plot(x, -7.4 + 2.4*x, 'black', label='Bayesian Fitted Line')\n",
    "pyplot.title(\"Food Rating vs Average Price\")\n",
    "pyplot.xlabel(\"Food Rating\")\n",
    "pyplot.ylabel(\"Average Price\")\n",
    "pyplot.legend()"
   ]
  },
  {
   "cell_type": "code",
   "execution_count": null,
   "id": "spectacular-atmosphere",
   "metadata": {},
   "outputs": [],
   "source": [
    "bayes_prediction = linear_trace_informed[\"Intercept\"] + linear_trace_informed[\"slope\"] * 23"
   ]
  },
  {
   "cell_type": "code",
   "execution_count": null,
   "id": "positive-algeria",
   "metadata": {},
   "outputs": [],
   "source": [
    "sn.kdeplot(bayes_prediction, label = 'Posterior Prediction')\n",
    "pyplot.vlines(x = model[1] + model[0] * 23, ymin = 0, ymax = 0.7, label = 'OLS Prediction', colors = 'red', linestyles='--')\n",
    "pyplot.legend()\n",
    "pyplot.xlabel(\"Average Price\")\n",
    "pyplot.ylabel(\"Probability Density\")\n",
    "pyplot.title(\"Posterior Prediction for Food Rating of 23\")"
   ]
  },
  {
   "cell_type": "markdown",
   "id": "tender-lyric",
   "metadata": {},
   "source": [
    "# Uninformed"
   ]
  },
  {
   "cell_type": "code",
   "execution_count": null,
   "id": "decreased-reality",
   "metadata": {},
   "outputs": [],
   "source": [
    "with pm.Model() as linear_model_uninformed:\n",
    "    # Intercept\n",
    "    intercept = pm.Normal(\"Intercept\", mu = 0, sd = 100)\n",
    "    \n",
    "    # Slope \n",
    "    slope = slope1 = pm.Normal(\"slope\", mu = 0, sd = 100)\n",
    "    \n",
    "    # Standard deviation\n",
    "    sigma = pm.HalfNormal(\"sigma\", sd = 10)\n",
    "    \n",
    "    # Estimate of mean\n",
    "    mean = intercept + slope * NYCDf[\"Food\"]\n",
    "    \n",
    "    # Observed values\n",
    "    Y_obs = pm.Normal('Y_obs', mu = mean, sd = sigma, observed = NYCDf[\"Price\"].values)\n",
    "    \n",
    "    # Sampler\n",
    "    step = pm.NUTS()\n",
    "\n",
    "    # Posterior distribution\n",
    "    linear_trace_uninformed = pm.sample(100, step)"
   ]
  },
  {
   "cell_type": "code",
   "execution_count": null,
   "id": "compliant-ribbon",
   "metadata": {},
   "outputs": [],
   "source": [
    "pm.traceplot(linear_trace_uninformed, figsize = (12, 12))"
   ]
  },
  {
   "cell_type": "code",
   "execution_count": null,
   "id": "changing-sunglasses",
   "metadata": {},
   "outputs": [],
   "source": [
    "pm.plot_posterior(linear_trace_uninformed, figsize = (5, 5), kind = \"hist\")"
   ]
  },
  {
   "cell_type": "code",
   "execution_count": null,
   "id": "appropriate-superintendent",
   "metadata": {},
   "outputs": [],
   "source": [
    "pm.plot_posterior_predictive_glm(linear_trace_uninformed, samples = 100, eval=np.linspace(16,25, 100), linewidth = 1, \n",
    "                                 color = \"red\", alpha = 0.8, label = \"Posterior Distribution Fitted Line\",\n",
    "                                lm = lambda x, sample: sample[\"Intercept\"] + sample[\"slope\"] * x);\n",
    "pyplot.scatter(NYCDf[\"Food\"], y.values, s = 12, alpha = 0.8, c = \"blue\")\n",
    "pyplot.title(\"Posterior Predictions\")\n",
    "pyplot.xlabel(\"Food Rating\")\n",
    "pyplot.ylabel(\"Average Price\")\n",
    "pyplot.legend()"
   ]
  },
  {
   "cell_type": "code",
   "execution_count": null,
   "id": "prerequisite-coaching",
   "metadata": {},
   "outputs": [],
   "source": [
    "bayes_prediction = linear_trace_uninformed[\"Intercept\"] + linear_trace_uninformed[\"slope\"] * 23"
   ]
  },
  {
   "cell_type": "code",
   "execution_count": null,
   "id": "becoming-egypt",
   "metadata": {},
   "outputs": [],
   "source": [
    "sn.kdeplot(bayes_prediction, label = 'Posterior Prediction')\n",
    "pyplot.vlines(x = model[1] + model[0] * 23, ymin = 0, ymax = 0.7, label = 'OLS Prediction', colors = 'red', linestyles='--')\n",
    "pyplot.legend()\n",
    "pyplot.xlabel(\"Average Price\")\n",
    "pyplot.ylabel(\"Probability Density\")\n",
    "pyplot.title(\"Posterior Prediction for Food Rating of 23\")"
   ]
  }
 ],
 "metadata": {
  "kernelspec": {
   "display_name": "Python 3",
   "language": "python",
   "name": "python3"
  },
  "language_info": {
   "codemirror_mode": {
    "name": "ipython",
    "version": 3
   },
   "file_extension": ".py",
   "mimetype": "text/x-python",
   "name": "python",
   "nbconvert_exporter": "python",
   "pygments_lexer": "ipython3",
   "version": "3.8.5"
  }
 },
 "nbformat": 4,
 "nbformat_minor": 5
}
